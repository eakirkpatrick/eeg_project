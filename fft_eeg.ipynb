{
 "cells": [
  {
   "cell_type": "code",
   "execution_count": 46,
   "id": "tutorial-event",
   "metadata": {},
   "outputs": [
    {
     "data": {
      "image/png": "[encoded data removed]",
      "text/plain": [
       "<Figure size 432x288 with 1 Axes>"
      ]
     },
     "metadata": {
      "needs_background": "light"
     },
     "output_type": "display_data"
    }
   ],
   "source": [
    "import matplotlib.pyplot as plt\n",
    "import numpy as np\n",
    "from scipy.fftpack import fft\n",
    "from scipy.io import wavfile # get the api\n",
    "fs, data = wavfile.read('math.wav') # load the data\n",
    " # this is a two channel soundtrack, I get the first track\n",
    "#rawdata = data.T[0]\n",
    "\n",
    "\n",
    "# b=[(ele/2**8.)*2-1 for ele in a] # this is 8-bit track, b is now normalized on [-1,1)\n",
    "c = fft(a) # calculate fourier transform (complex numbers list)\n",
    "d = int(len(c)/2)  # you only need half of the fft list (real signal symmetry)\n",
    "k = np.arange(d)\n",
    "time = len(data)/fs\n",
    "frqlabel = k/time\n",
    "plt.plot(frqlabel, abs(c[:d]),'r') \n",
    "plt.show()"
   ]
  },
  {
   "cell_type": "code",
   "execution_count": 16,
   "id": "useful-accordance",
   "metadata": {},
   "outputs": [
    {
     "data": {
      "text/plain": [
       "(3115335, 2)"
      ]
     },
     "execution_count": 16,
     "metadata": {},
     "output_type": "execute_result"
    }
   ],
   "source": [
    "data.shape"
   ]
  },
  {
   "cell_type": "code",
   "execution_count": 17,
   "id": "colonial-permit",
   "metadata": {},
   "outputs": [
    {
     "data": {
      "text/plain": [
       "array([-198482016, -161266640, -107511088, ...,   17057048,  -17557776,\n",
       "        137990880], dtype=int32)"
      ]
     },
     "execution_count": 17,
     "metadata": {},
     "output_type": "execute_result"
    }
   ],
   "source": [
    "a"
   ]
  },
  {
   "cell_type": "code",
   "execution_count": 21,
   "id": "essential-parameter",
   "metadata": {},
   "outputs": [
    {
     "data": {
      "text/plain": [
       "(3115335,)"
      ]
     },
     "execution_count": 21,
     "metadata": {},
     "output_type": "execute_result"
    }
   ],
   "source": [
    "c.shape"
   ]
  },
  {
   "cell_type": "code",
   "execution_count": 38,
   "id": "legislative-disposition",
   "metadata": {},
   "outputs": [
    {
     "data": {
      "text/plain": [
       "44100"
      ]
     },
     "execution_count": 38,
     "metadata": {},
     "output_type": "execute_result"
    }
   ],
   "source": [
    "fs"
   ]
  },
  {
   "cell_type": "code",
   "execution_count": 31,
   "id": "fallen-people",
   "metadata": {},
   "outputs": [
    {
     "data": {
      "text/plain": [
       "array([ 4046592,  1720320,  4390400, ..., -2457088,   688128, -1449728],\n",
       "      dtype=int32)"
      ]
     },
     "execution_count": 31,
     "metadata": {},
     "output_type": "execute_result"
    }
   ],
   "source": [
    "data"
   ]
  },
  {
   "cell_type": "code",
   "execution_count": 32,
   "id": "studied-civilization",
   "metadata": {},
   "outputs": [
    {
     "data": {
      "text/plain": [
       "(1848988,)"
      ]
     },
     "execution_count": 32,
     "metadata": {},
     "output_type": "execute_result"
    }
   ],
   "source": [
    "data.shape"
   ]
  },
  {
   "cell_type": "code",
   "execution_count": 35,
   "id": "occasional-warren",
   "metadata": {},
   "outputs": [
    {
     "ename": "NameError",
     "evalue": "name 'fftfreq' is not defined",
     "output_type": "error",
     "traceback": [
      "\u001b[0;31m---------------------------------------------------------------------------\u001b[0m",
      "\u001b[0;31mNameError\u001b[0m                                 Traceback (most recent call last)",
      "\u001b[0;32m<ipython-input-35-b3596dc5efff>\u001b[0m in \u001b[0;36m<module>\u001b[0;34m\u001b[0m\n\u001b[0;32m----> 1\u001b[0;31m \u001b[0mfreq\u001b[0m \u001b[0;34m=\u001b[0m \u001b[0mfftfreq\u001b[0m\u001b[0;34m(\u001b[0m\u001b[0mlen\u001b[0m\u001b[0;34m(\u001b[0m\u001b[0mdata\u001b[0m\u001b[0;34m)\u001b[0m\u001b[0;34m)\u001b[0m\u001b[0;34m\u001b[0m\u001b[0;34m\u001b[0m\u001b[0m\n\u001b[0m",
      "\u001b[0;31mNameError\u001b[0m: name 'fftfreq' is not defined"
     ]
    }
   ],
   "source": [
    "freq = fftfreq(len(data))"
   ]
  },
  {
   "cell_type": "code",
   "execution_count": null,
   "id": "european-verse",
   "metadata": {},
   "outputs": [],
   "source": [
    "k = np.arange(len(data))\n",
    "time = len(data)/fs"
   ]
  },
  {
   "cell_type": "code",
   "execution_count": 43,
   "id": "therapeutic-convert",
   "metadata": {},
   "outputs": [
    {
     "data": {
      "text/plain": [
       "924494.0"
      ]
     },
     "execution_count": 43,
     "metadata": {},
     "output_type": "execute_result"
    }
   ],
   "source": [
    "1848988 / 2"
   ]
  },
  {
   "cell_type": "code",
   "execution_count": null,
   "id": "delayed-isaac",
   "metadata": {},
   "outputs": [],
   "source": []
  }
 ],
 "metadata": {
  "kernelspec": {
   "display_name": "Python 3",
   "language": "python",
   "name": "python3"
  },
  "language_info": {
   "codemirror_mode": {
    "name": "ipython",
    "version": 3
   },
   "file_extension": ".py",
   "mimetype": "text/x-python",
   "name": "python",
   "nbconvert_exporter": "python",
   "pygments_lexer": "ipython3",
   "version": "3.7.6"
  }
 },
 "nbformat": 4,
 "nbformat_minor": 5
}
